{
 "cells": [
  {
   "cell_type": "code",
   "execution_count": 1,
   "id": "e03557ab",
   "metadata": {},
   "outputs": [],
   "source": [
    "import numpy as np\n",
    "import pandas as pd\n",
    "pd.set_option(\"display.max_columns\",None)\n",
    "pd.set_option(\"display.max_rows\",None)"
   ]
  },
  {
   "cell_type": "code",
   "execution_count": 4,
   "id": "994bf2c4",
   "metadata": {},
   "outputs": [],
   "source": [
    "a=pd.read_csv(\"Lung.csv\")"
   ]
  },
  {
   "cell_type": "code",
   "execution_count": 5,
   "id": "cdfd19c4",
   "metadata": {},
   "outputs": [
    {
     "data": {
      "text/html": [
       "<div>\n",
       "<style scoped>\n",
       "    .dataframe tbody tr th:only-of-type {\n",
       "        vertical-align: middle;\n",
       "    }\n",
       "\n",
       "    .dataframe tbody tr th {\n",
       "        vertical-align: top;\n",
       "    }\n",
       "\n",
       "    .dataframe thead th {\n",
       "        text-align: right;\n",
       "    }\n",
       "</style>\n",
       "<table border=\"1\" class=\"dataframe\">\n",
       "  <thead>\n",
       "    <tr style=\"text-align: right;\">\n",
       "      <th></th>\n",
       "      <th>LungCap</th>\n",
       "      <th>Age</th>\n",
       "      <th>Height</th>\n",
       "      <th>Smoke</th>\n",
       "      <th>Gender</th>\n",
       "      <th>Caesarean</th>\n",
       "    </tr>\n",
       "  </thead>\n",
       "  <tbody>\n",
       "    <tr>\n",
       "      <th>0</th>\n",
       "      <td>6.475</td>\n",
       "      <td>6</td>\n",
       "      <td>62.1</td>\n",
       "      <td>no</td>\n",
       "      <td>male</td>\n",
       "      <td>no</td>\n",
       "    </tr>\n",
       "    <tr>\n",
       "      <th>1</th>\n",
       "      <td>10.125</td>\n",
       "      <td>18</td>\n",
       "      <td>74.7</td>\n",
       "      <td>yes</td>\n",
       "      <td>female</td>\n",
       "      <td>no</td>\n",
       "    </tr>\n",
       "    <tr>\n",
       "      <th>2</th>\n",
       "      <td>9.550</td>\n",
       "      <td>16</td>\n",
       "      <td>69.7</td>\n",
       "      <td>no</td>\n",
       "      <td>female</td>\n",
       "      <td>yes</td>\n",
       "    </tr>\n",
       "    <tr>\n",
       "      <th>3</th>\n",
       "      <td>11.125</td>\n",
       "      <td>14</td>\n",
       "      <td>71.0</td>\n",
       "      <td>no</td>\n",
       "      <td>male</td>\n",
       "      <td>no</td>\n",
       "    </tr>\n",
       "    <tr>\n",
       "      <th>4</th>\n",
       "      <td>4.800</td>\n",
       "      <td>5</td>\n",
       "      <td>56.9</td>\n",
       "      <td>no</td>\n",
       "      <td>male</td>\n",
       "      <td>no</td>\n",
       "    </tr>\n",
       "  </tbody>\n",
       "</table>\n",
       "</div>"
      ],
      "text/plain": [
       "   LungCap  Age  Height Smoke  Gender Caesarean\n",
       "0    6.475    6    62.1    no    male        no\n",
       "1   10.125   18    74.7   yes  female        no\n",
       "2    9.550   16    69.7    no  female       yes\n",
       "3   11.125   14    71.0    no    male        no\n",
       "4    4.800    5    56.9    no    male        no"
      ]
     },
     "execution_count": 5,
     "metadata": {},
     "output_type": "execute_result"
    }
   ],
   "source": [
    "a.head()"
   ]
  },
  {
   "cell_type": "code",
   "execution_count": 6,
   "id": "5142c19f",
   "metadata": {},
   "outputs": [
    {
     "data": {
      "text/plain": [
       "LungCap      0\n",
       "Age          0\n",
       "Height       0\n",
       "Smoke        0\n",
       "Gender       0\n",
       "Caesarean    0\n",
       "dtype: int64"
      ]
     },
     "execution_count": 6,
     "metadata": {},
     "output_type": "execute_result"
    }
   ],
   "source": [
    "a.isnull().sum()"
   ]
  },
  {
   "cell_type": "code",
   "execution_count": 7,
   "id": "acb0ed42",
   "metadata": {},
   "outputs": [
    {
     "name": "stdout",
     "output_type": "stream",
     "text": [
      "<class 'pandas.core.frame.DataFrame'>\n",
      "RangeIndex: 725 entries, 0 to 724\n",
      "Data columns (total 6 columns):\n",
      " #   Column     Non-Null Count  Dtype  \n",
      "---  ------     --------------  -----  \n",
      " 0   LungCap    725 non-null    float64\n",
      " 1   Age        725 non-null    int64  \n",
      " 2   Height     725 non-null    float64\n",
      " 3   Smoke      725 non-null    object \n",
      " 4   Gender     725 non-null    object \n",
      " 5   Caesarean  725 non-null    object \n",
      "dtypes: float64(2), int64(1), object(3)\n",
      "memory usage: 34.1+ KB\n"
     ]
    }
   ],
   "source": [
    "a.info()"
   ]
  },
  {
   "cell_type": "code",
   "execution_count": 9,
   "id": "1d34ab09",
   "metadata": {},
   "outputs": [
    {
     "data": {
      "text/plain": [
       "no     648\n",
       "yes     77\n",
       "Name: Smoke, dtype: int64"
      ]
     },
     "execution_count": 9,
     "metadata": {},
     "output_type": "execute_result"
    }
   ],
   "source": [
    "a.Smoke.value_counts()"
   ]
  },
  {
   "cell_type": "code",
   "execution_count": 11,
   "id": "23f5e1f7",
   "metadata": {},
   "outputs": [],
   "source": [
    "a.Smoke=a.Smoke.replace({\"yes\":1,\"no\":0})"
   ]
  },
  {
   "cell_type": "code",
   "execution_count": 12,
   "id": "edcff62e",
   "metadata": {},
   "outputs": [
    {
     "data": {
      "text/plain": [
       "male      367\n",
       "female    358\n",
       "Name: Gender, dtype: int64"
      ]
     },
     "execution_count": 12,
     "metadata": {},
     "output_type": "execute_result"
    }
   ],
   "source": [
    "a.Gender.value_counts()"
   ]
  },
  {
   "cell_type": "code",
   "execution_count": 13,
   "id": "b113d12e",
   "metadata": {},
   "outputs": [],
   "source": [
    "a.Gender=a.Gender.replace({\"male\":1,\"female\":0})"
   ]
  },
  {
   "cell_type": "code",
   "execution_count": 15,
   "id": "64fac9de",
   "metadata": {},
   "outputs": [
    {
     "data": {
      "text/plain": [
       "no     561\n",
       "yes    164\n",
       "Name: Caesarean, dtype: int64"
      ]
     },
     "execution_count": 15,
     "metadata": {},
     "output_type": "execute_result"
    }
   ],
   "source": [
    "a.Caesarean.value_counts()"
   ]
  },
  {
   "cell_type": "code",
   "execution_count": 16,
   "id": "dc139874",
   "metadata": {},
   "outputs": [],
   "source": [
    "a.Caesarean=a.Caesarean.replace({\"no\":1,\"yes\":0})"
   ]
  },
  {
   "cell_type": "code",
   "execution_count": 17,
   "id": "6904de41",
   "metadata": {},
   "outputs": [
    {
     "name": "stdout",
     "output_type": "stream",
     "text": [
      "<class 'pandas.core.frame.DataFrame'>\n",
      "RangeIndex: 725 entries, 0 to 724\n",
      "Data columns (total 6 columns):\n",
      " #   Column     Non-Null Count  Dtype  \n",
      "---  ------     --------------  -----  \n",
      " 0   LungCap    725 non-null    float64\n",
      " 1   Age        725 non-null    int64  \n",
      " 2   Height     725 non-null    float64\n",
      " 3   Smoke      725 non-null    int64  \n",
      " 4   Gender     725 non-null    int64  \n",
      " 5   Caesarean  725 non-null    int64  \n",
      "dtypes: float64(2), int64(4)\n",
      "memory usage: 34.1 KB\n"
     ]
    }
   ],
   "source": [
    "a.info()"
   ]
  },
  {
   "cell_type": "code",
   "execution_count": 19,
   "id": "1150d02d",
   "metadata": {},
   "outputs": [],
   "source": [
    "from sklearn.model_selection import train_test_split\n",
    "a_train,a_test=train_test_split(a,test_size=0.2)"
   ]
  },
  {
   "cell_type": "code",
   "execution_count": 21,
   "id": "fdaa2d23",
   "metadata": {},
   "outputs": [
    {
     "data": {
      "text/plain": [
       "(580, 6)"
      ]
     },
     "execution_count": 21,
     "metadata": {},
     "output_type": "execute_result"
    }
   ],
   "source": [
    "a_train.shape"
   ]
  },
  {
   "cell_type": "code",
   "execution_count": 23,
   "id": "f9dbecf5",
   "metadata": {},
   "outputs": [
    {
     "data": {
      "text/plain": [
       "(145, 6)"
      ]
     },
     "execution_count": 23,
     "metadata": {},
     "output_type": "execute_result"
    }
   ],
   "source": [
    "a_test.shape"
   ]
  },
  {
   "cell_type": "code",
   "execution_count": 24,
   "id": "620cadda",
   "metadata": {},
   "outputs": [],
   "source": [
    "a_train_x=a_train.iloc[:,1::]\n",
    "a_train_y=a_train.iloc[:,0]"
   ]
  },
  {
   "cell_type": "code",
   "execution_count": 25,
   "id": "3f58b3d9",
   "metadata": {},
   "outputs": [],
   "source": [
    "a_test_x=a_test.iloc[:,1::]\n",
    "a_test_y=a_test.iloc[:,0]"
   ]
  },
  {
   "cell_type": "code",
   "execution_count": 26,
   "id": "dbe83ae2",
   "metadata": {},
   "outputs": [
    {
     "data": {
      "text/html": [
       "<style>#sk-container-id-1 {\n",
       "  /* Definition of color scheme common for light and dark mode */\n",
       "  --sklearn-color-text: black;\n",
       "  --sklearn-color-line: gray;\n",
       "  /* Definition of color scheme for unfitted estimators */\n",
       "  --sklearn-color-unfitted-level-0: #fff5e6;\n",
       "  --sklearn-color-unfitted-level-1: #f6e4d2;\n",
       "  --sklearn-color-unfitted-level-2: #ffe0b3;\n",
       "  --sklearn-color-unfitted-level-3: chocolate;\n",
       "  /* Definition of color scheme for fitted estimators */\n",
       "  --sklearn-color-fitted-level-0: #f0f8ff;\n",
       "  --sklearn-color-fitted-level-1: #d4ebff;\n",
       "  --sklearn-color-fitted-level-2: #b3dbfd;\n",
       "  --sklearn-color-fitted-level-3: cornflowerblue;\n",
       "\n",
       "  /* Specific color for light theme */\n",
       "  --sklearn-color-text-on-default-background: var(--sg-text-color, var(--theme-code-foreground, var(--jp-content-font-color1, black)));\n",
       "  --sklearn-color-background: var(--sg-background-color, var(--theme-background, var(--jp-layout-color0, white)));\n",
       "  --sklearn-color-border-box: var(--sg-text-color, var(--theme-code-foreground, var(--jp-content-font-color1, black)));\n",
       "  --sklearn-color-icon: #696969;\n",
       "\n",
       "  @media (prefers-color-scheme: dark) {\n",
       "    /* Redefinition of color scheme for dark theme */\n",
       "    --sklearn-color-text-on-default-background: var(--sg-text-color, var(--theme-code-foreground, var(--jp-content-font-color1, white)));\n",
       "    --sklearn-color-background: var(--sg-background-color, var(--theme-background, var(--jp-layout-color0, #111)));\n",
       "    --sklearn-color-border-box: var(--sg-text-color, var(--theme-code-foreground, var(--jp-content-font-color1, white)));\n",
       "    --sklearn-color-icon: #878787;\n",
       "  }\n",
       "}\n",
       "\n",
       "#sk-container-id-1 {\n",
       "  color: var(--sklearn-color-text);\n",
       "}\n",
       "\n",
       "#sk-container-id-1 pre {\n",
       "  padding: 0;\n",
       "}\n",
       "\n",
       "#sk-container-id-1 input.sk-hidden--visually {\n",
       "  border: 0;\n",
       "  clip: rect(1px 1px 1px 1px);\n",
       "  clip: rect(1px, 1px, 1px, 1px);\n",
       "  height: 1px;\n",
       "  margin: -1px;\n",
       "  overflow: hidden;\n",
       "  padding: 0;\n",
       "  position: absolute;\n",
       "  width: 1px;\n",
       "}\n",
       "\n",
       "#sk-container-id-1 div.sk-dashed-wrapped {\n",
       "  border: 1px dashed var(--sklearn-color-line);\n",
       "  margin: 0 0.4em 0.5em 0.4em;\n",
       "  box-sizing: border-box;\n",
       "  padding-bottom: 0.4em;\n",
       "  background-color: var(--sklearn-color-background);\n",
       "}\n",
       "\n",
       "#sk-container-id-1 div.sk-container {\n",
       "  /* jupyter's `normalize.less` sets `[hidden] { display: none; }`\n",
       "     but bootstrap.min.css set `[hidden] { display: none !important; }`\n",
       "     so we also need the `!important` here to be able to override the\n",
       "     default hidden behavior on the sphinx rendered scikit-learn.org.\n",
       "     See: https://github.com/scikit-learn/scikit-learn/issues/21755 */\n",
       "  display: inline-block !important;\n",
       "  position: relative;\n",
       "}\n",
       "\n",
       "#sk-container-id-1 div.sk-text-repr-fallback {\n",
       "  display: none;\n",
       "}\n",
       "\n",
       "div.sk-parallel-item,\n",
       "div.sk-serial,\n",
       "div.sk-item {\n",
       "  /* draw centered vertical line to link estimators */\n",
       "  background-image: linear-gradient(var(--sklearn-color-text-on-default-background), var(--sklearn-color-text-on-default-background));\n",
       "  background-size: 2px 100%;\n",
       "  background-repeat: no-repeat;\n",
       "  background-position: center center;\n",
       "}\n",
       "\n",
       "/* Parallel-specific style estimator block */\n",
       "\n",
       "#sk-container-id-1 div.sk-parallel-item::after {\n",
       "  content: \"\";\n",
       "  width: 100%;\n",
       "  border-bottom: 2px solid var(--sklearn-color-text-on-default-background);\n",
       "  flex-grow: 1;\n",
       "}\n",
       "\n",
       "#sk-container-id-1 div.sk-parallel {\n",
       "  display: flex;\n",
       "  align-items: stretch;\n",
       "  justify-content: center;\n",
       "  background-color: var(--sklearn-color-background);\n",
       "  position: relative;\n",
       "}\n",
       "\n",
       "#sk-container-id-1 div.sk-parallel-item {\n",
       "  display: flex;\n",
       "  flex-direction: column;\n",
       "}\n",
       "\n",
       "#sk-container-id-1 div.sk-parallel-item:first-child::after {\n",
       "  align-self: flex-end;\n",
       "  width: 50%;\n",
       "}\n",
       "\n",
       "#sk-container-id-1 div.sk-parallel-item:last-child::after {\n",
       "  align-self: flex-start;\n",
       "  width: 50%;\n",
       "}\n",
       "\n",
       "#sk-container-id-1 div.sk-parallel-item:only-child::after {\n",
       "  width: 0;\n",
       "}\n",
       "\n",
       "/* Serial-specific style estimator block */\n",
       "\n",
       "#sk-container-id-1 div.sk-serial {\n",
       "  display: flex;\n",
       "  flex-direction: column;\n",
       "  align-items: center;\n",
       "  background-color: var(--sklearn-color-background);\n",
       "  padding-right: 1em;\n",
       "  padding-left: 1em;\n",
       "}\n",
       "\n",
       "\n",
       "/* Toggleable style: style used for estimator/Pipeline/ColumnTransformer box that is\n",
       "clickable and can be expanded/collapsed.\n",
       "- Pipeline and ColumnTransformer use this feature and define the default style\n",
       "- Estimators will overwrite some part of the style using the `sk-estimator` class\n",
       "*/\n",
       "\n",
       "/* Pipeline and ColumnTransformer style (default) */\n",
       "\n",
       "#sk-container-id-1 div.sk-toggleable {\n",
       "  /* Default theme specific background. It is overwritten whether we have a\n",
       "  specific estimator or a Pipeline/ColumnTransformer */\n",
       "  background-color: var(--sklearn-color-background);\n",
       "}\n",
       "\n",
       "/* Toggleable label */\n",
       "#sk-container-id-1 label.sk-toggleable__label {\n",
       "  cursor: pointer;\n",
       "  display: block;\n",
       "  width: 100%;\n",
       "  margin-bottom: 0;\n",
       "  padding: 0.5em;\n",
       "  box-sizing: border-box;\n",
       "  text-align: center;\n",
       "}\n",
       "\n",
       "#sk-container-id-1 label.sk-toggleable__label-arrow:before {\n",
       "  /* Arrow on the left of the label */\n",
       "  content: \"▸\";\n",
       "  float: left;\n",
       "  margin-right: 0.25em;\n",
       "  color: var(--sklearn-color-icon);\n",
       "}\n",
       "\n",
       "#sk-container-id-1 label.sk-toggleable__label-arrow:hover:before {\n",
       "  color: var(--sklearn-color-text);\n",
       "}\n",
       "\n",
       "/* Toggleable content - dropdown */\n",
       "\n",
       "#sk-container-id-1 div.sk-toggleable__content {\n",
       "  max-height: 0;\n",
       "  max-width: 0;\n",
       "  overflow: hidden;\n",
       "  text-align: left;\n",
       "  /* unfitted */\n",
       "  background-color: var(--sklearn-color-unfitted-level-0);\n",
       "}\n",
       "\n",
       "#sk-container-id-1 div.sk-toggleable__content.fitted {\n",
       "  /* fitted */\n",
       "  background-color: var(--sklearn-color-fitted-level-0);\n",
       "}\n",
       "\n",
       "#sk-container-id-1 div.sk-toggleable__content pre {\n",
       "  margin: 0.2em;\n",
       "  border-radius: 0.25em;\n",
       "  color: var(--sklearn-color-text);\n",
       "  /* unfitted */\n",
       "  background-color: var(--sklearn-color-unfitted-level-0);\n",
       "}\n",
       "\n",
       "#sk-container-id-1 div.sk-toggleable__content.fitted pre {\n",
       "  /* unfitted */\n",
       "  background-color: var(--sklearn-color-fitted-level-0);\n",
       "}\n",
       "\n",
       "#sk-container-id-1 input.sk-toggleable__control:checked~div.sk-toggleable__content {\n",
       "  /* Expand drop-down */\n",
       "  max-height: 200px;\n",
       "  max-width: 100%;\n",
       "  overflow: auto;\n",
       "}\n",
       "\n",
       "#sk-container-id-1 input.sk-toggleable__control:checked~label.sk-toggleable__label-arrow:before {\n",
       "  content: \"▾\";\n",
       "}\n",
       "\n",
       "/* Pipeline/ColumnTransformer-specific style */\n",
       "\n",
       "#sk-container-id-1 div.sk-label input.sk-toggleable__control:checked~label.sk-toggleable__label {\n",
       "  color: var(--sklearn-color-text);\n",
       "  background-color: var(--sklearn-color-unfitted-level-2);\n",
       "}\n",
       "\n",
       "#sk-container-id-1 div.sk-label.fitted input.sk-toggleable__control:checked~label.sk-toggleable__label {\n",
       "  background-color: var(--sklearn-color-fitted-level-2);\n",
       "}\n",
       "\n",
       "/* Estimator-specific style */\n",
       "\n",
       "/* Colorize estimator box */\n",
       "#sk-container-id-1 div.sk-estimator input.sk-toggleable__control:checked~label.sk-toggleable__label {\n",
       "  /* unfitted */\n",
       "  background-color: var(--sklearn-color-unfitted-level-2);\n",
       "}\n",
       "\n",
       "#sk-container-id-1 div.sk-estimator.fitted input.sk-toggleable__control:checked~label.sk-toggleable__label {\n",
       "  /* fitted */\n",
       "  background-color: var(--sklearn-color-fitted-level-2);\n",
       "}\n",
       "\n",
       "#sk-container-id-1 div.sk-label label.sk-toggleable__label,\n",
       "#sk-container-id-1 div.sk-label label {\n",
       "  /* The background is the default theme color */\n",
       "  color: var(--sklearn-color-text-on-default-background);\n",
       "}\n",
       "\n",
       "/* On hover, darken the color of the background */\n",
       "#sk-container-id-1 div.sk-label:hover label.sk-toggleable__label {\n",
       "  color: var(--sklearn-color-text);\n",
       "  background-color: var(--sklearn-color-unfitted-level-2);\n",
       "}\n",
       "\n",
       "/* Label box, darken color on hover, fitted */\n",
       "#sk-container-id-1 div.sk-label.fitted:hover label.sk-toggleable__label.fitted {\n",
       "  color: var(--sklearn-color-text);\n",
       "  background-color: var(--sklearn-color-fitted-level-2);\n",
       "}\n",
       "\n",
       "/* Estimator label */\n",
       "\n",
       "#sk-container-id-1 div.sk-label label {\n",
       "  font-family: monospace;\n",
       "  font-weight: bold;\n",
       "  display: inline-block;\n",
       "  line-height: 1.2em;\n",
       "}\n",
       "\n",
       "#sk-container-id-1 div.sk-label-container {\n",
       "  text-align: center;\n",
       "}\n",
       "\n",
       "/* Estimator-specific */\n",
       "#sk-container-id-1 div.sk-estimator {\n",
       "  font-family: monospace;\n",
       "  border: 1px dotted var(--sklearn-color-border-box);\n",
       "  border-radius: 0.25em;\n",
       "  box-sizing: border-box;\n",
       "  margin-bottom: 0.5em;\n",
       "  /* unfitted */\n",
       "  background-color: var(--sklearn-color-unfitted-level-0);\n",
       "}\n",
       "\n",
       "#sk-container-id-1 div.sk-estimator.fitted {\n",
       "  /* fitted */\n",
       "  background-color: var(--sklearn-color-fitted-level-0);\n",
       "}\n",
       "\n",
       "/* on hover */\n",
       "#sk-container-id-1 div.sk-estimator:hover {\n",
       "  /* unfitted */\n",
       "  background-color: var(--sklearn-color-unfitted-level-2);\n",
       "}\n",
       "\n",
       "#sk-container-id-1 div.sk-estimator.fitted:hover {\n",
       "  /* fitted */\n",
       "  background-color: var(--sklearn-color-fitted-level-2);\n",
       "}\n",
       "\n",
       "/* Specification for estimator info (e.g. \"i\" and \"?\") */\n",
       "\n",
       "/* Common style for \"i\" and \"?\" */\n",
       "\n",
       ".sk-estimator-doc-link,\n",
       "a:link.sk-estimator-doc-link,\n",
       "a:visited.sk-estimator-doc-link {\n",
       "  float: right;\n",
       "  font-size: smaller;\n",
       "  line-height: 1em;\n",
       "  font-family: monospace;\n",
       "  background-color: var(--sklearn-color-background);\n",
       "  border-radius: 1em;\n",
       "  height: 1em;\n",
       "  width: 1em;\n",
       "  text-decoration: none !important;\n",
       "  margin-left: 1ex;\n",
       "  /* unfitted */\n",
       "  border: var(--sklearn-color-unfitted-level-1) 1pt solid;\n",
       "  color: var(--sklearn-color-unfitted-level-1);\n",
       "}\n",
       "\n",
       ".sk-estimator-doc-link.fitted,\n",
       "a:link.sk-estimator-doc-link.fitted,\n",
       "a:visited.sk-estimator-doc-link.fitted {\n",
       "  /* fitted */\n",
       "  border: var(--sklearn-color-fitted-level-1) 1pt solid;\n",
       "  color: var(--sklearn-color-fitted-level-1);\n",
       "}\n",
       "\n",
       "/* On hover */\n",
       "div.sk-estimator:hover .sk-estimator-doc-link:hover,\n",
       ".sk-estimator-doc-link:hover,\n",
       "div.sk-label-container:hover .sk-estimator-doc-link:hover,\n",
       ".sk-estimator-doc-link:hover {\n",
       "  /* unfitted */\n",
       "  background-color: var(--sklearn-color-unfitted-level-3);\n",
       "  color: var(--sklearn-color-background);\n",
       "  text-decoration: none;\n",
       "}\n",
       "\n",
       "div.sk-estimator.fitted:hover .sk-estimator-doc-link.fitted:hover,\n",
       ".sk-estimator-doc-link.fitted:hover,\n",
       "div.sk-label-container:hover .sk-estimator-doc-link.fitted:hover,\n",
       ".sk-estimator-doc-link.fitted:hover {\n",
       "  /* fitted */\n",
       "  background-color: var(--sklearn-color-fitted-level-3);\n",
       "  color: var(--sklearn-color-background);\n",
       "  text-decoration: none;\n",
       "}\n",
       "\n",
       "/* Span, style for the box shown on hovering the info icon */\n",
       ".sk-estimator-doc-link span {\n",
       "  display: none;\n",
       "  z-index: 9999;\n",
       "  position: relative;\n",
       "  font-weight: normal;\n",
       "  right: .2ex;\n",
       "  padding: .5ex;\n",
       "  margin: .5ex;\n",
       "  width: min-content;\n",
       "  min-width: 20ex;\n",
       "  max-width: 50ex;\n",
       "  color: var(--sklearn-color-text);\n",
       "  box-shadow: 2pt 2pt 4pt #999;\n",
       "  /* unfitted */\n",
       "  background: var(--sklearn-color-unfitted-level-0);\n",
       "  border: .5pt solid var(--sklearn-color-unfitted-level-3);\n",
       "}\n",
       "\n",
       ".sk-estimator-doc-link.fitted span {\n",
       "  /* fitted */\n",
       "  background: var(--sklearn-color-fitted-level-0);\n",
       "  border: var(--sklearn-color-fitted-level-3);\n",
       "}\n",
       "\n",
       ".sk-estimator-doc-link:hover span {\n",
       "  display: block;\n",
       "}\n",
       "\n",
       "/* \"?\"-specific style due to the `<a>` HTML tag */\n",
       "\n",
       "#sk-container-id-1 a.estimator_doc_link {\n",
       "  float: right;\n",
       "  font-size: 1rem;\n",
       "  line-height: 1em;\n",
       "  font-family: monospace;\n",
       "  background-color: var(--sklearn-color-background);\n",
       "  border-radius: 1rem;\n",
       "  height: 1rem;\n",
       "  width: 1rem;\n",
       "  text-decoration: none;\n",
       "  /* unfitted */\n",
       "  color: var(--sklearn-color-unfitted-level-1);\n",
       "  border: var(--sklearn-color-unfitted-level-1) 1pt solid;\n",
       "}\n",
       "\n",
       "#sk-container-id-1 a.estimator_doc_link.fitted {\n",
       "  /* fitted */\n",
       "  border: var(--sklearn-color-fitted-level-1) 1pt solid;\n",
       "  color: var(--sklearn-color-fitted-level-1);\n",
       "}\n",
       "\n",
       "/* On hover */\n",
       "#sk-container-id-1 a.estimator_doc_link:hover {\n",
       "  /* unfitted */\n",
       "  background-color: var(--sklearn-color-unfitted-level-3);\n",
       "  color: var(--sklearn-color-background);\n",
       "  text-decoration: none;\n",
       "}\n",
       "\n",
       "#sk-container-id-1 a.estimator_doc_link.fitted:hover {\n",
       "  /* fitted */\n",
       "  background-color: var(--sklearn-color-fitted-level-3);\n",
       "}\n",
       "</style><div id=\"sk-container-id-1\" class=\"sk-top-container\"><div class=\"sk-text-repr-fallback\"><pre>LinearRegression()</pre><b>In a Jupyter environment, please rerun this cell to show the HTML representation or trust the notebook. <br />On GitHub, the HTML representation is unable to render, please try loading this page with nbviewer.org.</b></div><div class=\"sk-container\" hidden><div class=\"sk-item\"><div class=\"sk-estimator fitted sk-toggleable\"><input class=\"sk-toggleable__control sk-hidden--visually\" id=\"sk-estimator-id-1\" type=\"checkbox\" checked><label for=\"sk-estimator-id-1\" class=\"sk-toggleable__label fitted sk-toggleable__label-arrow fitted\">&nbsp;&nbsp;LinearRegression<a class=\"sk-estimator-doc-link fitted\" rel=\"noreferrer\" target=\"_blank\" href=\"https://scikit-learn.org/1.4/modules/generated/sklearn.linear_model.LinearRegression.html\">?<span>Documentation for LinearRegression</span></a><span class=\"sk-estimator-doc-link fitted\">i<span>Fitted</span></span></label><div class=\"sk-toggleable__content fitted\"><pre>LinearRegression()</pre></div> </div></div></div></div>"
      ],
      "text/plain": [
       "LinearRegression()"
      ]
     },
     "execution_count": 26,
     "metadata": {},
     "output_type": "execute_result"
    }
   ],
   "source": [
    "from sklearn.linear_model import LinearRegression\n",
    "le=LinearRegression()\n",
    "le.fit(a_train_x,a_train_y)"
   ]
  },
  {
   "cell_type": "code",
   "execution_count": 27,
   "id": "79defa14",
   "metadata": {},
   "outputs": [],
   "source": [
    "pred_train=le.predict(a_train_x)\n",
    "pred_test=le.predict(a_test_x)"
   ]
  },
  {
   "cell_type": "code",
   "execution_count": 28,
   "id": "e284859e",
   "metadata": {},
   "outputs": [
    {
     "data": {
      "text/plain": [
       "array([ 5.48527462, 10.11065534,  4.94146909,  2.75499983,  9.97911402,\n",
       "        7.83378101,  6.25800242,  5.21337185,  9.91248775,  7.4919574 ,\n",
       "        6.43753003,  2.82662093,  9.54077502,  7.97841371,  6.10255444,\n",
       "        7.88316673,  7.21735578,  6.29658382,  7.40868631,  6.14738813,\n",
       "        5.75447854,  6.91826274,  4.79656657,  3.22848165,  8.41102911,\n",
       "       10.94571827, 10.25457023,  4.1380065 , 10.1545014 , 10.05272135,\n",
       "       10.65617209,  7.70777936,  7.67603705, 11.70434717,  9.50818704,\n",
       "        9.40212478,  8.16631662, 10.67709912,  3.45739499,  3.39432216,\n",
       "        8.42597367, 10.8220126 ,  6.62911943,  7.64173786,  7.92160413,\n",
       "        4.45204411, 11.05447937, 11.50532296, 10.07293057,  9.51088589,\n",
       "       12.32972353, 11.51374541,  5.89727794,  9.68812645,  8.00889856,\n",
       "       10.82471145,  5.59133688,  9.19657846,  9.51687932,  6.31052979,\n",
       "        8.15776835,  8.47180595,  6.44022888, 12.38140524,  9.51813677,\n",
       "        9.61694815,  5.76672425, 10.39591931,  8.87156356, 11.42019869,\n",
       "        6.84038935,  8.58286304,  3.91548945, 10.30809619, 11.28154845,\n",
       "        6.07806301,  4.32748385, 11.35357242,  8.56791848,  4.85719941,\n",
       "       11.47188039,  3.56345725,  5.07472162,  6.97094304,  7.85412327,\n",
       "        9.64058499,  5.9176202 ,  5.54920204,  7.40116561,  6.94545302,\n",
       "        8.40747567,  6.70074053,  9.29106769,  5.16683791,  9.34661982,\n",
       "        5.77541653,  3.62508868,  8.87781585,  8.63125017,  8.94858236,\n",
       "        9.94296165,  3.9713114 , 12.08501104,  7.28312746, 13.32081921,\n",
       "       13.18486782, 11.6619425 ,  3.79947747, 12.90257253,  6.14383469,\n",
       "        9.37948654,  7.94793981,  8.1023892 ,  7.434878  ,  3.25567193,\n",
       "       10.72549721,  7.99362809, 10.31350281,  8.57417077,  4.68181203,\n",
       "        5.49126805,  4.83870141, 10.36788337,  4.14255853, 10.74044177,\n",
       "        2.47584618,  9.06814778,  9.55005206,  7.66649911,  9.18104913,\n",
       "        6.50086172, 10.07562941,  9.92143889,  2.70746729,  9.66962845,\n",
       "        4.84495369,  9.99761202,  8.79169298,  8.22042735,  8.07250008,\n",
       "        8.04445521,  8.63310336,  9.62833927,  5.77870014,  6.53404543,\n",
       "        8.63850105,  6.37715605,  3.23987278,  8.09883576,  6.39210062,\n",
       "        4.89578081,  9.15741229,  3.58650728,  3.88434287,  4.94206482,\n",
       "        7.02347041,  7.26191965, 10.0248023 ,  8.89690065,  5.30278929,\n",
       "        6.54984458,  8.51024335, 11.22387332, 11.6377209 ,  5.25169236,\n",
       "        7.72172533,  8.42157457,  9.13122061,  4.40990927,  9.20823941,\n",
       "        7.97868353,  5.74138716, 12.03248367,  8.93633664,  3.95636684,\n",
       "        6.88937221,  9.53452273, 11.4324444 ,  5.70609141,  5.9693019 ,\n",
       "        9.80615567,  7.8771733 , 11.5474578 ,  7.04652044, 10.79937435,\n",
       "        9.10875534,  7.58137484,  8.83027438,  6.35721666,  9.95817603,\n",
       "        3.85655687, 10.69830693, 12.02793164,  4.78432085,  7.8400333 ,\n",
       "        9.27756452,  8.44691166,  6.15793359,  7.87776903,  8.31096028,\n",
       "       10.36136126, 10.10610331,  9.73440153,  6.9332073 ,  7.33750801,\n",
       "        7.97513009, 10.83425831,  9.75745157, 11.71659288, 13.59272197,\n",
       "        5.15273901,  4.46884185,  7.8971127 , 11.81496146,  3.51177554,\n",
       "       10.26951479, 10.27194382,  9.26261996, 10.80409936,  7.46206827,\n",
       "        3.01095944,  7.95991571,  8.01159741,  8.43466595,  6.64280653,\n",
       "        3.96987001, 11.56839578,  5.6114292 ,  6.44977575,  7.25593718,\n",
       "        8.82757553,  9.6633652 ,  8.18851206, 10.22980898,  8.00417355,\n",
       "       10.33417098,  3.90198628,  8.16631662,  7.50420311,  9.77626655,\n",
       "        8.9512812 ,  9.72840811, 10.974166  ,  2.97751688, 10.8931909 ,\n",
       "       10.94927171,  9.4529519 , 10.07478375, 10.06963599, 10.43720848,\n",
       "        3.51532898,  9.61339471,  6.1560804 ,  9.15089018,  4.98959735,\n",
       "        4.35053388,  8.96708036,  6.95000505,  3.48188642,  8.86971037,\n",
       "        9.66777526, 10.92780503,  6.48591716, 12.21766785,  6.41659205,\n",
       "        9.81097753,  8.74001128,  3.88704172, 10.72549721,  5.16498473,\n",
       "        9.13976888,  7.86037556,  6.02638131, 12.57628921,  6.14172061,\n",
       "        7.04382159,  6.39809404,  6.26839495, 11.0843685 ,  4.45204411,\n",
       "        7.94793981,  6.75881852, 10.99140655,  5.81840596, 12.29983441,\n",
       "        7.02702385,  7.83706463,  3.31005248,  2.1531163 ,  7.44712371,\n",
       "        5.45183206,  3.68987069,  9.23273084,  8.07164548,  9.78878208,\n",
       "       11.35357242,  9.87575061,  5.63077287, 10.31737323,  6.84808303,\n",
       "       10.39295064, 10.92807486,  7.33480916,  4.05913452,  7.74266332,\n",
       "        6.99628013,  4.57305093,  6.98488901,  6.90246359,  5.11060417,\n",
       "        9.96956716,  7.39274316,  2.98976259, 10.10281969,  6.51199195,\n",
       "        4.62743148,  7.62350968, 10.48533675,  8.35664856, 11.7132983 ,\n",
       "        1.05865722,  7.70408192, 12.41584639, 10.67296984,  9.20284171,\n",
       "        6.54002789,  8.01456608,  2.5636693 , 10.08945849,  6.02012902,\n",
       "        6.57803345, 10.43990733, 11.20622991,  5.36156895,  4.48522781,\n",
       "       11.4509424 ,  7.64470653, 11.0272891 , 10.51422728, 11.11214354,\n",
       "        6.53490002,  6.11394556,  8.86701153,  7.71007534,  3.44870272,\n",
       "        6.80594819, 10.77717891,  6.57973371,  7.85767671,  8.2067512 ,\n",
       "        8.03905751,  6.25773259,  8.91995069,  8.53775953,  6.23495238,\n",
       "        3.26706305,  8.03306408,  5.22291872,  3.02320516,  7.88672017,\n",
       "        8.06894664, 11.19043076,  3.24612507,  9.83986806,  8.56292365,\n",
       "        8.2638306 ,  8.02411295,  5.92986591,  7.55233138,  9.08453374,\n",
       "       10.85375491,  7.22334921,  7.79105044,  8.11293466,  8.7579806 ,\n",
       "        5.70879026, 10.14225568,  4.9868985 ,  4.57305093,  5.38875923,\n",
       "        4.49417895,  7.77340703,  2.32950227,  9.68187416,  4.40635583,\n",
       "       11.48268471,  2.60850299,  9.1670922 ,  3.20584341,  9.92743232,\n",
       "        8.08119235,  6.36491034,  9.08723259,  9.99405858,  4.96240708,\n",
       "        2.00761805,  6.97094304,  9.48909331, 11.56425554,  6.20934547,\n",
       "       12.33427556, 12.27989501,  7.25323833,  4.23182304,  7.81824072,\n",
       "        8.88709289, 11.0272891 ,  4.39411011, 10.86414744,  9.45565075,\n",
       "        9.56796529,  7.75760788, 10.79152774,  8.48760511,  6.38770151,\n",
       "        6.75426649,  9.90024204,  8.69517759,  6.32547435,  9.36268879,\n",
       "        7.28937975, 12.16388302, 10.0633837 ,  3.09522912,  5.21067301,\n",
       "        3.33724276,  8.3734463 ,  5.38606038,  8.32860369,  6.45787229,\n",
       "        9.4529519 ,  6.73062965,  7.78835159,  6.54957476,  8.1355729 ,\n",
       "       10.65017866,  7.3119011 ,  6.91740815,  6.96639101,  5.69654455,\n",
       "       10.11776425,  7.22105322, 10.23877107,  9.62267175,  8.58286304,\n",
       "        7.26548405,  4.92382568,  8.48035423,  8.46185622,  6.79725592,\n",
       "        8.81118958,  9.30205595,  8.11792949,  5.88958426, 11.71059946,\n",
       "        9.76757427,  5.49752033,  9.34504538, 12.3764104 ,  8.05755551,\n",
       "        8.57331618, 11.89653229,  6.90516243,  5.14589992, 11.21465236,\n",
       "        5.02903334, 11.62007749,  8.35579396,  2.53148419,  9.23898312,\n",
       "        9.04865119,  7.65839364, 10.17939569,  5.49482149,  6.33502122,\n",
       "        7.66734477,  7.15172811,  5.70734887,  5.13779445,  7.25449579,\n",
       "        5.66395657,  9.05919665,  9.21634488,  8.09969035,  7.93924754,\n",
       "       11.48241489,  3.84346549,  9.78851226,  9.9336846 ,  9.95790621,\n",
       "        9.24168197,  7.57952166, 10.90358343,  6.86032875, 10.67736894,\n",
       "        9.07471705,  3.1556031 ,  8.20945005, 12.32702468, 11.39656185,\n",
       "        5.2247719 ,  5.12284989,  7.51348016,  8.61900446,  4.18613477,\n",
       "        8.01911811,  9.06359575, 11.16324048, 10.84920288,  7.31031774,\n",
       "       10.94032057,  7.31301658,  5.96903208, 11.27555503,  5.25880127,\n",
       "        7.51644883,  8.96082807,  5.09421822, 11.3992607 ,  8.58614666,\n",
       "        7.19286436,  6.45787229,  4.95074613,  4.3764667 ,  5.4159495 ,\n",
       "        9.87305176,  6.14383469, 10.60179154, 11.55615007,  6.82629938,\n",
       "       10.39421905,  7.61566307,  3.69071636,  2.87956009, 13.0067816 ,\n",
       "        6.28873721,  7.98737581, 11.18773191, 10.17839709,  6.51765947,\n",
       "        8.72506672,  7.58491935,  5.66935427,  7.57055956,  4.40990927,\n",
       "        9.71076469,  9.16110974, 11.0789708 ,  5.67290771,  7.40413428,\n",
       "        6.40237625,  3.23987278,  5.94481048,  3.46194702,  2.70687156,\n",
       "        4.52136922, 12.02793164,  9.61667833,  2.74774895, 10.74399521,\n",
       "        8.12957948, 10.90983572,  7.8971127 ,  8.77944727,  5.68515342,\n",
       "        4.86774487, 10.65117726,  1.52089192, 10.11776425,  7.15942179,\n",
       "        5.79661338, 11.49407583,  7.65213039, 10.53516527,  7.98467696,\n",
       "        7.37154631, 10.28901139,  7.67662182,  8.41102911,  8.16816088])"
      ]
     },
     "execution_count": 28,
     "metadata": {},
     "output_type": "execute_result"
    }
   ],
   "source": [
    "pred_train"
   ]
  },
  {
   "cell_type": "code",
   "execution_count": 37,
   "id": "35da6866",
   "metadata": {},
   "outputs": [],
   "source": [
    "err=a_test_y-pred_test"
   ]
  },
  {
   "cell_type": "code",
   "execution_count": 38,
   "id": "453dcff0",
   "metadata": {},
   "outputs": [
    {
     "data": {
      "text/plain": [
       "198   -0.500395\n",
       "655   -0.032321\n",
       "223    2.066793\n",
       "700    0.942037\n",
       "538    1.592252\n",
       "15     1.889245\n",
       "360   -0.951525\n",
       "67     0.318087\n",
       "224    0.979160\n",
       "685    0.648628\n",
       "186   -0.592080\n",
       "341    0.266550\n",
       "31    -0.477199\n",
       "594    0.435810\n",
       "696    0.697540\n",
       "592    1.551329\n",
       "216   -0.504285\n",
       "425   -1.308913\n",
       "371    0.649339\n",
       "434    1.284165\n",
       "227    1.173953\n",
       "152    1.453953\n",
       "83    -0.800412\n",
       "607   -1.084354\n",
       "709   -2.249048\n",
       "523   -1.251339\n",
       "146    0.330426\n",
       "130    1.246650\n",
       "159   -0.415268\n",
       "217   -1.525730\n",
       "40     0.070929\n",
       "583   -0.014290\n",
       "162    1.061484\n",
       "391    1.297499\n",
       "28    -1.006324\n",
       "154    0.335110\n",
       "332    1.113663\n",
       "323    1.951142\n",
       "266   -1.265624\n",
       "380   -1.633006\n",
       "496    0.375716\n",
       "12     0.428698\n",
       "481   -0.114736\n",
       "242    0.832767\n",
       "457    0.063863\n",
       "66    -0.077417\n",
       "220    0.809391\n",
       "515    0.764682\n",
       "179    1.439308\n",
       "141   -0.342325\n",
       "138   -1.003117\n",
       "623   -0.215860\n",
       "370    1.967416\n",
       "9      0.389660\n",
       "598    1.221532\n",
       "478   -1.200371\n",
       "297    0.633003\n",
       "30     1.159162\n",
       "16     0.871872\n",
       "81     2.002457\n",
       "68     1.162423\n",
       "134   -0.634247\n",
       "463    1.081064\n",
       "415   -1.291989\n",
       "572    0.792048\n",
       "129    1.099215\n",
       "501   -0.288322\n",
       "5      0.337269\n",
       "366    1.862423\n",
       "584    0.471863\n",
       "245   -0.342896\n",
       "73    -1.703529\n",
       "79     1.507491\n",
       "320   -1.474478\n",
       "347   -0.004888\n",
       "254    0.239224\n",
       "392    0.353507\n",
       "45    -0.248152\n",
       "487    0.334855\n",
       "205    1.443644\n",
       "449    0.784663\n",
       "315   -1.515330\n",
       "502    0.194534\n",
       "210    0.618288\n",
       "180    0.787226\n",
       "553   -0.959724\n",
       "375   -0.590071\n",
       "589   -0.335631\n",
       "504   -2.501166\n",
       "189   -1.464730\n",
       "240   -0.064799\n",
       "287    0.950756\n",
       "177    0.079600\n",
       "460   -0.732800\n",
       "648   -0.153637\n",
       "384    1.313408\n",
       "539    2.019869\n",
       "21    -0.390043\n",
       "376    0.743596\n",
       "206   -1.095198\n",
       "653   -0.205874\n",
       "346   -1.058522\n",
       "342   -0.427994\n",
       "106   -0.708340\n",
       "49     0.879882\n",
       "191    0.424546\n",
       "383   -1.093485\n",
       "621    0.233750\n",
       "127    0.108554\n",
       "150   -1.879145\n",
       "461    1.935942\n",
       "88     0.423755\n",
       "160    0.644607\n",
       "277   -1.615512\n",
       "379   -0.626456\n",
       "493    1.173921\n",
       "80     0.144890\n",
       "571    0.565015\n",
       "411    0.343113\n",
       "71    -0.299456\n",
       "54    -0.769536\n",
       "625    0.182685\n",
       "309   -1.306384\n",
       "660    0.544932\n",
       "556   -1.583399\n",
       "269    3.047712\n",
       "554    0.272732\n",
       "282    1.560874\n",
       "582   -0.420973\n",
       "174   -1.354172\n",
       "568   -1.008901\n",
       "172   -0.004447\n",
       "511   -0.151367\n",
       "619   -1.139879\n",
       "717   -0.631236\n",
       "705    1.540501\n",
       "409    1.529578\n",
       "63     0.665875\n",
       "600    1.591714\n",
       "570    0.327052\n",
       "340   -0.115940\n",
       "201    0.837985\n",
       "46     0.800064\n",
       "527    0.968636\n",
       "378   -0.947440\n",
       "Name: LungCap, dtype: float64"
      ]
     },
     "execution_count": 38,
     "metadata": {},
     "output_type": "execute_result"
    }
   ],
   "source": [
    "err"
   ]
  },
  {
   "cell_type": "code",
   "execution_count": 39,
   "id": "11193d2f",
   "metadata": {},
   "outputs": [],
   "source": [
    "# Evaluate the Model\n",
    "Rsquare=le.score(a_train_x,a_train_y)"
   ]
  },
  {
   "cell_type": "code",
   "execution_count": 40,
   "id": "cc8021b7",
   "metadata": {},
   "outputs": [
    {
     "data": {
      "text/plain": [
       "0.8622841071202594"
      ]
     },
     "execution_count": 40,
     "metadata": {},
     "output_type": "execute_result"
    }
   ],
   "source": [
    "Rsquare"
   ]
  },
  {
   "cell_type": "code",
   "execution_count": 41,
   "id": "c2a33eb9",
   "metadata": {},
   "outputs": [],
   "source": [
    "N=a_train_x.shape[0]\n",
    "K=a_train_x.shape[1]"
   ]
  },
  {
   "cell_type": "code",
   "execution_count": 42,
   "id": "aa477267",
   "metadata": {},
   "outputs": [],
   "source": [
    "adj=1-(1-Rsquare)*(N-1)/(N-K-1)"
   ]
  },
  {
   "cell_type": "code",
   "execution_count": 43,
   "id": "5cdcbd17",
   "metadata": {},
   "outputs": [
    {
     "data": {
      "text/plain": [
       "0.861084491328624"
      ]
     },
     "execution_count": 43,
     "metadata": {},
     "output_type": "execute_result"
    }
   ],
   "source": [
    "adj"
   ]
  },
  {
   "cell_type": "code",
   "execution_count": 44,
   "id": "121bbd05",
   "metadata": {},
   "outputs": [],
   "source": [
    "mse=np.mean(np.square(err))"
   ]
  },
  {
   "cell_type": "code",
   "execution_count": 45,
   "id": "44d79362",
   "metadata": {},
   "outputs": [
    {
     "data": {
      "text/plain": [
       "1.1220571557909442"
      ]
     },
     "execution_count": 45,
     "metadata": {},
     "output_type": "execute_result"
    }
   ],
   "source": [
    "mse"
   ]
  },
  {
   "cell_type": "code",
   "execution_count": 46,
   "id": "4a8a65e9",
   "metadata": {},
   "outputs": [],
   "source": [
    "#RMSE\n",
    "rmse=np.sqrt(mse)"
   ]
  },
  {
   "cell_type": "code",
   "execution_count": 47,
   "id": "4ffa67c0",
   "metadata": {},
   "outputs": [
    {
     "data": {
      "text/plain": [
       "1.0592719933005612"
      ]
     },
     "execution_count": 47,
     "metadata": {},
     "output_type": "execute_result"
    }
   ],
   "source": [
    "rmse"
   ]
  },
  {
   "cell_type": "code",
   "execution_count": 49,
   "id": "87aa10ac",
   "metadata": {},
   "outputs": [
    {
     "data": {
      "text/plain": [
       "13.0679196527574"
      ]
     },
     "execution_count": 49,
     "metadata": {},
     "output_type": "execute_result"
    }
   ],
   "source": [
    "#Mape\n",
    "mape=np.mean(np.abs(err*100)/a_test_y)\n",
    "mape"
   ]
  },
  {
   "cell_type": "code",
   "execution_count": null,
   "id": "0bbd6b1c",
   "metadata": {},
   "outputs": [],
   "source": []
  }
 ],
 "metadata": {
  "kernelspec": {
   "display_name": "Python 3 (ipykernel)",
   "language": "python",
   "name": "python3"
  },
  "language_info": {
   "codemirror_mode": {
    "name": "ipython",
    "version": 3
   },
   "file_extension": ".py",
   "mimetype": "text/x-python",
   "name": "python",
   "nbconvert_exporter": "python",
   "pygments_lexer": "ipython3",
   "version": "3.11.4"
  }
 },
 "nbformat": 4,
 "nbformat_minor": 5
}
